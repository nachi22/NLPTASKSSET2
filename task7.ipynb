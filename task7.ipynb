{
 "cells": [
  {
   "cell_type": "code",
   "execution_count": null,
   "metadata": {},
   "outputs": [],
   "source": [
    "#TASK 7"
   ]
  },
  {
   "cell_type": "code",
   "execution_count": 5,
   "metadata": {},
   "outputs": [
    {
     "name": "stdout",
     "output_type": "stream",
     "text": [
      "the quick brown fox jump over a lazi dog\n"
     ]
    }
   ],
   "source": [
    "from nltk.stem import PorterStemmer\n",
    "stemmer= PorterStemmer()\n",
    "example= \"The quick brown fox jumps over a lazy dog\"\n",
    "example=[stemmer.stem(token) for token in example.split(\" \")]\n",
    "print(\" \".join(example))"
   ]
  },
  {
   "cell_type": "code",
   "execution_count": 11,
   "metadata": {},
   "outputs": [
    {
     "name": "stdout",
     "output_type": "stream",
     "text": [
      "lorem ipsum is simpli dummi text of the print and typeset industry. lorem ipsum ha been the industry' standard dummi text ever sinc the 1500s, when an unknown printer took a galley of type and scrambl it to make a type specimen book. It ha surviv not onli five centuries, but also the leap into electron typesetting, remain essenti unchanged. It wa popularis in the 1960 with the releas of letraset sheet contain lorem ipsum passages, and more recent with desktop publish softwar like aldu pagemak includ version of lorem ipsum.\n"
     ]
    }
   ],
   "source": [
    "from nltk.stem import PorterStemmer\n",
    "f=open(\"sample.txt\",\"r\")\n",
    "eg=f.read()\n",
    "stemmer= PorterStemmer()\n",
    "eg=[stemmer.stem(token) for token in eg.split(\" \")]\n",
    "print(\" \".join(eg))"
   ]
  },
  {
   "cell_type": "code",
   "execution_count": null,
   "metadata": {},
   "outputs": [],
   "source": []
  }
 ],
 "metadata": {
  "kernelspec": {
   "display_name": "Python 3",
   "language": "python",
   "name": "python3"
  },
  "language_info": {
   "codemirror_mode": {
    "name": "ipython",
    "version": 3
   },
   "file_extension": ".py",
   "mimetype": "text/x-python",
   "name": "python",
   "nbconvert_exporter": "python",
   "pygments_lexer": "ipython3",
   "version": "3.8.5"
  }
 },
 "nbformat": 4,
 "nbformat_minor": 4
}
